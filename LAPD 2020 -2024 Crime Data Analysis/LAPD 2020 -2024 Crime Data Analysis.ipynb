{
 "cells": [
  {
   "cell_type": "code",
   "execution_count": 1,
   "id": "14a6a142-7a52-4e09-8f75-05ae011f605b",
   "metadata": {},
   "outputs": [],
   "source": [
    "import pandas as pd\n",
    "import numpy as np\n",
    "import matplotlib.pyplot as plt\n",
    "import seaborn as sns"
   ]
  },
  {
   "cell_type": "markdown",
   "id": "1e181a80-3e76-4850-a2b8-0db56cf7bdd8",
   "metadata": {},
   "source": [
    "## Import Libraries"
   ]
  },
  {
   "cell_type": "code",
   "execution_count": 2,
   "id": "00af7fdf-7559-475c-8b88-9fa5584c715e",
   "metadata": {},
   "outputs": [],
   "source": [
    "df = pd.read_csv(\"data/Crime_Data_from_2020_to_Present.csv\", low_memory=False)"
   ]
  },
  {
   "cell_type": "markdown",
   "id": "cffe48eb-2d72-484f-b059-6c63658454b4",
   "metadata": {},
   "source": [
    "## Data ScaN"
   ]
  },
  {
   "cell_type": "code",
   "execution_count": 3,
   "id": "a753de46-df3b-4742-81ed-b7a0d4743940",
   "metadata": {},
   "outputs": [],
   "source": [
    "pd.set_option('display.max_columns', None)\n",
    "pd.set_option('display.max_rows', 200)"
   ]
  },
  {
   "cell_type": "code",
   "execution_count": 4,
   "id": "e033bb80-408c-46be-8f84-13d358b94432",
   "metadata": {},
   "outputs": [
    {
     "data": {
      "text/html": [
       "<div>\n",
       "<style scoped>\n",
       "    .dataframe tbody tr th:only-of-type {\n",
       "        vertical-align: middle;\n",
       "    }\n",
       "\n",
       "    .dataframe tbody tr th {\n",
       "        vertical-align: top;\n",
       "    }\n",
       "\n",
       "    .dataframe thead th {\n",
       "        text-align: right;\n",
       "    }\n",
       "</style>\n",
       "<table border=\"1\" class=\"dataframe\">\n",
       "  <thead>\n",
       "    <tr style=\"text-align: right;\">\n",
       "      <th></th>\n",
       "      <th>DR_NO</th>\n",
       "      <th>Date Rptd</th>\n",
       "      <th>DATE OCC</th>\n",
       "      <th>TIME OCC</th>\n",
       "      <th>AREA</th>\n",
       "      <th>AREA NAME</th>\n",
       "      <th>Rpt Dist No</th>\n",
       "      <th>Part 1-2</th>\n",
       "      <th>Crm Cd</th>\n",
       "      <th>Crm Cd Desc</th>\n",
       "      <th>Mocodes</th>\n",
       "      <th>Vict Age</th>\n",
       "      <th>Vict Sex</th>\n",
       "      <th>Vict Descent</th>\n",
       "      <th>Premis Cd</th>\n",
       "      <th>Premis Desc</th>\n",
       "      <th>Weapon Used Cd</th>\n",
       "      <th>Weapon Desc</th>\n",
       "      <th>Status</th>\n",
       "      <th>Status Desc</th>\n",
       "      <th>Crm Cd 1</th>\n",
       "      <th>Crm Cd 2</th>\n",
       "      <th>Crm Cd 3</th>\n",
       "      <th>Crm Cd 4</th>\n",
       "      <th>LOCATION</th>\n",
       "      <th>Cross Street</th>\n",
       "      <th>LAT</th>\n",
       "      <th>LON</th>\n",
       "    </tr>\n",
       "  </thead>\n",
       "  <tbody>\n",
       "    <tr>\n",
       "      <th>0</th>\n",
       "      <td>190326475</td>\n",
       "      <td>03/01/2020 12:00:00 AM</td>\n",
       "      <td>03/01/2020 12:00:00 AM</td>\n",
       "      <td>2130</td>\n",
       "      <td>7</td>\n",
       "      <td>Wilshire</td>\n",
       "      <td>784</td>\n",
       "      <td>1</td>\n",
       "      <td>510</td>\n",
       "      <td>VEHICLE - STOLEN</td>\n",
       "      <td>NaN</td>\n",
       "      <td>0</td>\n",
       "      <td>M</td>\n",
       "      <td>O</td>\n",
       "      <td>101.0</td>\n",
       "      <td>STREET</td>\n",
       "      <td>NaN</td>\n",
       "      <td>NaN</td>\n",
       "      <td>AA</td>\n",
       "      <td>Adult Arrest</td>\n",
       "      <td>510.0</td>\n",
       "      <td>998.0</td>\n",
       "      <td>NaN</td>\n",
       "      <td>NaN</td>\n",
       "      <td>1900 S  LONGWOOD                     AV</td>\n",
       "      <td>NaN</td>\n",
       "      <td>34.0375</td>\n",
       "      <td>-118.3506</td>\n",
       "    </tr>\n",
       "    <tr>\n",
       "      <th>1</th>\n",
       "      <td>200106753</td>\n",
       "      <td>02/09/2020 12:00:00 AM</td>\n",
       "      <td>02/08/2020 12:00:00 AM</td>\n",
       "      <td>1800</td>\n",
       "      <td>1</td>\n",
       "      <td>Central</td>\n",
       "      <td>182</td>\n",
       "      <td>1</td>\n",
       "      <td>330</td>\n",
       "      <td>BURGLARY FROM VEHICLE</td>\n",
       "      <td>1822 1402 0344</td>\n",
       "      <td>47</td>\n",
       "      <td>M</td>\n",
       "      <td>O</td>\n",
       "      <td>128.0</td>\n",
       "      <td>BUS STOP/LAYOVER (ALSO QUERY 124)</td>\n",
       "      <td>NaN</td>\n",
       "      <td>NaN</td>\n",
       "      <td>IC</td>\n",
       "      <td>Invest Cont</td>\n",
       "      <td>330.0</td>\n",
       "      <td>998.0</td>\n",
       "      <td>NaN</td>\n",
       "      <td>NaN</td>\n",
       "      <td>1000 S  FLOWER                       ST</td>\n",
       "      <td>NaN</td>\n",
       "      <td>34.0444</td>\n",
       "      <td>-118.2628</td>\n",
       "    </tr>\n",
       "    <tr>\n",
       "      <th>2</th>\n",
       "      <td>200320258</td>\n",
       "      <td>11/11/2020 12:00:00 AM</td>\n",
       "      <td>11/04/2020 12:00:00 AM</td>\n",
       "      <td>1700</td>\n",
       "      <td>3</td>\n",
       "      <td>Southwest</td>\n",
       "      <td>356</td>\n",
       "      <td>1</td>\n",
       "      <td>480</td>\n",
       "      <td>BIKE - STOLEN</td>\n",
       "      <td>0344 1251</td>\n",
       "      <td>19</td>\n",
       "      <td>X</td>\n",
       "      <td>X</td>\n",
       "      <td>502.0</td>\n",
       "      <td>MULTI-UNIT DWELLING (APARTMENT, DUPLEX, ETC)</td>\n",
       "      <td>NaN</td>\n",
       "      <td>NaN</td>\n",
       "      <td>IC</td>\n",
       "      <td>Invest Cont</td>\n",
       "      <td>480.0</td>\n",
       "      <td>NaN</td>\n",
       "      <td>NaN</td>\n",
       "      <td>NaN</td>\n",
       "      <td>1400 W  37TH                         ST</td>\n",
       "      <td>NaN</td>\n",
       "      <td>34.0210</td>\n",
       "      <td>-118.3002</td>\n",
       "    </tr>\n",
       "    <tr>\n",
       "      <th>3</th>\n",
       "      <td>200907217</td>\n",
       "      <td>05/10/2023 12:00:00 AM</td>\n",
       "      <td>03/10/2020 12:00:00 AM</td>\n",
       "      <td>2037</td>\n",
       "      <td>9</td>\n",
       "      <td>Van Nuys</td>\n",
       "      <td>964</td>\n",
       "      <td>1</td>\n",
       "      <td>343</td>\n",
       "      <td>SHOPLIFTING-GRAND THEFT ($950.01 &amp; OVER)</td>\n",
       "      <td>0325 1501</td>\n",
       "      <td>19</td>\n",
       "      <td>M</td>\n",
       "      <td>O</td>\n",
       "      <td>405.0</td>\n",
       "      <td>CLOTHING STORE</td>\n",
       "      <td>NaN</td>\n",
       "      <td>NaN</td>\n",
       "      <td>IC</td>\n",
       "      <td>Invest Cont</td>\n",
       "      <td>343.0</td>\n",
       "      <td>NaN</td>\n",
       "      <td>NaN</td>\n",
       "      <td>NaN</td>\n",
       "      <td>14000    RIVERSIDE                    DR</td>\n",
       "      <td>NaN</td>\n",
       "      <td>34.1576</td>\n",
       "      <td>-118.4387</td>\n",
       "    </tr>\n",
       "    <tr>\n",
       "      <th>4</th>\n",
       "      <td>220614831</td>\n",
       "      <td>08/18/2022 12:00:00 AM</td>\n",
       "      <td>08/17/2020 12:00:00 AM</td>\n",
       "      <td>1200</td>\n",
       "      <td>6</td>\n",
       "      <td>Hollywood</td>\n",
       "      <td>666</td>\n",
       "      <td>2</td>\n",
       "      <td>354</td>\n",
       "      <td>THEFT OF IDENTITY</td>\n",
       "      <td>1822 1501 0930 2004</td>\n",
       "      <td>28</td>\n",
       "      <td>M</td>\n",
       "      <td>H</td>\n",
       "      <td>102.0</td>\n",
       "      <td>SIDEWALK</td>\n",
       "      <td>NaN</td>\n",
       "      <td>NaN</td>\n",
       "      <td>IC</td>\n",
       "      <td>Invest Cont</td>\n",
       "      <td>354.0</td>\n",
       "      <td>NaN</td>\n",
       "      <td>NaN</td>\n",
       "      <td>NaN</td>\n",
       "      <td>1900    TRANSIENT</td>\n",
       "      <td>NaN</td>\n",
       "      <td>34.0944</td>\n",
       "      <td>-118.3277</td>\n",
       "    </tr>\n",
       "  </tbody>\n",
       "</table>\n",
       "</div>"
      ],
      "text/plain": [
       "       DR_NO               Date Rptd                DATE OCC  TIME OCC  AREA  \\\n",
       "0  190326475  03/01/2020 12:00:00 AM  03/01/2020 12:00:00 AM      2130     7   \n",
       "1  200106753  02/09/2020 12:00:00 AM  02/08/2020 12:00:00 AM      1800     1   \n",
       "2  200320258  11/11/2020 12:00:00 AM  11/04/2020 12:00:00 AM      1700     3   \n",
       "3  200907217  05/10/2023 12:00:00 AM  03/10/2020 12:00:00 AM      2037     9   \n",
       "4  220614831  08/18/2022 12:00:00 AM  08/17/2020 12:00:00 AM      1200     6   \n",
       "\n",
       "   AREA NAME  Rpt Dist No  Part 1-2  Crm Cd  \\\n",
       "0   Wilshire          784         1     510   \n",
       "1    Central          182         1     330   \n",
       "2  Southwest          356         1     480   \n",
       "3   Van Nuys          964         1     343   \n",
       "4  Hollywood          666         2     354   \n",
       "\n",
       "                                Crm Cd Desc              Mocodes  Vict Age  \\\n",
       "0                          VEHICLE - STOLEN                  NaN         0   \n",
       "1                     BURGLARY FROM VEHICLE       1822 1402 0344        47   \n",
       "2                             BIKE - STOLEN            0344 1251        19   \n",
       "3  SHOPLIFTING-GRAND THEFT ($950.01 & OVER)            0325 1501        19   \n",
       "4                         THEFT OF IDENTITY  1822 1501 0930 2004        28   \n",
       "\n",
       "  Vict Sex Vict Descent  Premis Cd  \\\n",
       "0        M            O      101.0   \n",
       "1        M            O      128.0   \n",
       "2        X            X      502.0   \n",
       "3        M            O      405.0   \n",
       "4        M            H      102.0   \n",
       "\n",
       "                                    Premis Desc  Weapon Used Cd Weapon Desc  \\\n",
       "0                                        STREET             NaN         NaN   \n",
       "1             BUS STOP/LAYOVER (ALSO QUERY 124)             NaN         NaN   \n",
       "2  MULTI-UNIT DWELLING (APARTMENT, DUPLEX, ETC)             NaN         NaN   \n",
       "3                                CLOTHING STORE             NaN         NaN   \n",
       "4                                      SIDEWALK             NaN         NaN   \n",
       "\n",
       "  Status   Status Desc  Crm Cd 1  Crm Cd 2  Crm Cd 3  Crm Cd 4  \\\n",
       "0     AA  Adult Arrest     510.0     998.0       NaN       NaN   \n",
       "1     IC   Invest Cont     330.0     998.0       NaN       NaN   \n",
       "2     IC   Invest Cont     480.0       NaN       NaN       NaN   \n",
       "3     IC   Invest Cont     343.0       NaN       NaN       NaN   \n",
       "4     IC   Invest Cont     354.0       NaN       NaN       NaN   \n",
       "\n",
       "                                   LOCATION Cross Street      LAT       LON  \n",
       "0   1900 S  LONGWOOD                     AV          NaN  34.0375 -118.3506  \n",
       "1   1000 S  FLOWER                       ST          NaN  34.0444 -118.2628  \n",
       "2   1400 W  37TH                         ST          NaN  34.0210 -118.3002  \n",
       "3  14000    RIVERSIDE                    DR          NaN  34.1576 -118.4387  \n",
       "4                         1900    TRANSIENT          NaN  34.0944 -118.3277  "
      ]
     },
     "execution_count": 4,
     "metadata": {},
     "output_type": "execute_result"
    }
   ],
   "source": [
    "df.head(5)"
   ]
  },
  {
   "cell_type": "code",
   "execution_count": 5,
   "id": "56b0849a-7cc6-4aab-894b-79df1575a6e9",
   "metadata": {},
   "outputs": [
    {
     "data": {
      "text/html": [
       "<div>\n",
       "<style scoped>\n",
       "    .dataframe tbody tr th:only-of-type {\n",
       "        vertical-align: middle;\n",
       "    }\n",
       "\n",
       "    .dataframe tbody tr th {\n",
       "        vertical-align: top;\n",
       "    }\n",
       "\n",
       "    .dataframe thead th {\n",
       "        text-align: right;\n",
       "    }\n",
       "</style>\n",
       "<table border=\"1\" class=\"dataframe\">\n",
       "  <thead>\n",
       "    <tr style=\"text-align: right;\">\n",
       "      <th></th>\n",
       "      <th>DR_NO</th>\n",
       "      <th>Date Rptd</th>\n",
       "      <th>DATE OCC</th>\n",
       "      <th>TIME OCC</th>\n",
       "      <th>AREA</th>\n",
       "      <th>AREA NAME</th>\n",
       "      <th>Rpt Dist No</th>\n",
       "      <th>Part 1-2</th>\n",
       "      <th>Crm Cd</th>\n",
       "      <th>Crm Cd Desc</th>\n",
       "      <th>Mocodes</th>\n",
       "      <th>Vict Age</th>\n",
       "      <th>Vict Sex</th>\n",
       "      <th>Vict Descent</th>\n",
       "      <th>Premis Cd</th>\n",
       "      <th>Premis Desc</th>\n",
       "      <th>Weapon Used Cd</th>\n",
       "      <th>Weapon Desc</th>\n",
       "      <th>Status</th>\n",
       "      <th>Status Desc</th>\n",
       "      <th>Crm Cd 1</th>\n",
       "      <th>Crm Cd 2</th>\n",
       "      <th>Crm Cd 3</th>\n",
       "      <th>Crm Cd 4</th>\n",
       "      <th>LOCATION</th>\n",
       "      <th>Cross Street</th>\n",
       "      <th>LAT</th>\n",
       "      <th>LON</th>\n",
       "    </tr>\n",
       "  </thead>\n",
       "  <tbody>\n",
       "    <tr>\n",
       "      <th>787568</th>\n",
       "      <td>230907153</td>\n",
       "      <td>03/19/2023 12:00:00 AM</td>\n",
       "      <td>03/16/2023 12:00:00 AM</td>\n",
       "      <td>1015</td>\n",
       "      <td>9</td>\n",
       "      <td>Van Nuys</td>\n",
       "      <td>961</td>\n",
       "      <td>1</td>\n",
       "      <td>331</td>\n",
       "      <td>THEFT FROM MOTOR VEHICLE - GRAND ($950.01 AND ...</td>\n",
       "      <td>0344 1822</td>\n",
       "      <td>28</td>\n",
       "      <td>F</td>\n",
       "      <td>W</td>\n",
       "      <td>101.0</td>\n",
       "      <td>STREET</td>\n",
       "      <td>NaN</td>\n",
       "      <td>NaN</td>\n",
       "      <td>IC</td>\n",
       "      <td>Invest Cont</td>\n",
       "      <td>331.0</td>\n",
       "      <td>NaN</td>\n",
       "      <td>NaN</td>\n",
       "      <td>NaN</td>\n",
       "      <td>15200    VALLEYHEART                  DR</td>\n",
       "      <td>NaN</td>\n",
       "      <td>34.1612</td>\n",
       "      <td>-118.4651</td>\n",
       "    </tr>\n",
       "    <tr>\n",
       "      <th>792775</th>\n",
       "      <td>231800678</td>\n",
       "      <td>04/25/2023 12:00:00 AM</td>\n",
       "      <td>04/25/2023 12:00:00 AM</td>\n",
       "      <td>2045</td>\n",
       "      <td>18</td>\n",
       "      <td>Southeast</td>\n",
       "      <td>1844</td>\n",
       "      <td>1</td>\n",
       "      <td>230</td>\n",
       "      <td>ASSAULT WITH DEADLY WEAPON, AGGRAVATED ASSAULT</td>\n",
       "      <td>0906 1402 1419 1822 1407 1300 1100 0302 0450</td>\n",
       "      <td>34</td>\n",
       "      <td>M</td>\n",
       "      <td>B</td>\n",
       "      <td>210.0</td>\n",
       "      <td>RESTAURANT/FAST FOOD</td>\n",
       "      <td>106.0</td>\n",
       "      <td>UNKNOWN FIREARM</td>\n",
       "      <td>AA</td>\n",
       "      <td>Adult Arrest</td>\n",
       "      <td>230.0</td>\n",
       "      <td>NaN</td>\n",
       "      <td>NaN</td>\n",
       "      <td>NaN</td>\n",
       "      <td>11300    AVALON                       BL</td>\n",
       "      <td>NaN</td>\n",
       "      <td>33.9320</td>\n",
       "      <td>-118.2652</td>\n",
       "    </tr>\n",
       "    <tr>\n",
       "      <th>70332</th>\n",
       "      <td>200207340</td>\n",
       "      <td>03/05/2020 12:00:00 AM</td>\n",
       "      <td>03/05/2020 12:00:00 AM</td>\n",
       "      <td>1130</td>\n",
       "      <td>2</td>\n",
       "      <td>Rampart</td>\n",
       "      <td>236</td>\n",
       "      <td>2</td>\n",
       "      <td>745</td>\n",
       "      <td>VANDALISM - MISDEAMEANOR ($399 OR UNDER)</td>\n",
       "      <td>0913 0329 1609 2000 0319 2007 1222 1814 1300</td>\n",
       "      <td>27</td>\n",
       "      <td>M</td>\n",
       "      <td>B</td>\n",
       "      <td>502.0</td>\n",
       "      <td>MULTI-UNIT DWELLING (APARTMENT, DUPLEX, ETC)</td>\n",
       "      <td>NaN</td>\n",
       "      <td>NaN</td>\n",
       "      <td>AO</td>\n",
       "      <td>Adult Other</td>\n",
       "      <td>745.0</td>\n",
       "      <td>NaN</td>\n",
       "      <td>NaN</td>\n",
       "      <td>NaN</td>\n",
       "      <td>200 N  ALVARADO                     ST</td>\n",
       "      <td>NaN</td>\n",
       "      <td>34.0680</td>\n",
       "      <td>-118.2695</td>\n",
       "    </tr>\n",
       "    <tr>\n",
       "      <th>259118</th>\n",
       "      <td>210617551</td>\n",
       "      <td>10/16/2021 12:00:00 AM</td>\n",
       "      <td>10/16/2021 12:00:00 AM</td>\n",
       "      <td>420</td>\n",
       "      <td>6</td>\n",
       "      <td>Hollywood</td>\n",
       "      <td>645</td>\n",
       "      <td>1</td>\n",
       "      <td>230</td>\n",
       "      <td>ASSAULT WITH DEADLY WEAPON, AGGRAVATED ASSAULT</td>\n",
       "      <td>1822 0334 1501 0400</td>\n",
       "      <td>21</td>\n",
       "      <td>F</td>\n",
       "      <td>B</td>\n",
       "      <td>102.0</td>\n",
       "      <td>SIDEWALK</td>\n",
       "      <td>102.0</td>\n",
       "      <td>HAND GUN</td>\n",
       "      <td>IC</td>\n",
       "      <td>Invest Cont</td>\n",
       "      <td>230.0</td>\n",
       "      <td>NaN</td>\n",
       "      <td>NaN</td>\n",
       "      <td>NaN</td>\n",
       "      <td>1700 N  LA BREA                      AV</td>\n",
       "      <td>NaN</td>\n",
       "      <td>34.1016</td>\n",
       "      <td>-118.3452</td>\n",
       "    </tr>\n",
       "    <tr>\n",
       "      <th>724039</th>\n",
       "      <td>231004528</td>\n",
       "      <td>01/13/2023 12:00:00 AM</td>\n",
       "      <td>01/13/2023 12:00:00 AM</td>\n",
       "      <td>130</td>\n",
       "      <td>10</td>\n",
       "      <td>West Valley</td>\n",
       "      <td>1008</td>\n",
       "      <td>1</td>\n",
       "      <td>330</td>\n",
       "      <td>BURGLARY FROM VEHICLE</td>\n",
       "      <td>0344 1609 1822 1420 0209</td>\n",
       "      <td>0</td>\n",
       "      <td>M</td>\n",
       "      <td>W</td>\n",
       "      <td>108.0</td>\n",
       "      <td>PARKING LOT</td>\n",
       "      <td>NaN</td>\n",
       "      <td>NaN</td>\n",
       "      <td>IC</td>\n",
       "      <td>Invest Cont</td>\n",
       "      <td>330.0</td>\n",
       "      <td>NaN</td>\n",
       "      <td>NaN</td>\n",
       "      <td>NaN</td>\n",
       "      <td>7600    HAYVENHURST                  AV</td>\n",
       "      <td>NaN</td>\n",
       "      <td>34.2085</td>\n",
       "      <td>-118.4924</td>\n",
       "    </tr>\n",
       "  </tbody>\n",
       "</table>\n",
       "</div>"
      ],
      "text/plain": [
       "            DR_NO               Date Rptd                DATE OCC  TIME OCC  \\\n",
       "787568  230907153  03/19/2023 12:00:00 AM  03/16/2023 12:00:00 AM      1015   \n",
       "792775  231800678  04/25/2023 12:00:00 AM  04/25/2023 12:00:00 AM      2045   \n",
       "70332   200207340  03/05/2020 12:00:00 AM  03/05/2020 12:00:00 AM      1130   \n",
       "259118  210617551  10/16/2021 12:00:00 AM  10/16/2021 12:00:00 AM       420   \n",
       "724039  231004528  01/13/2023 12:00:00 AM  01/13/2023 12:00:00 AM       130   \n",
       "\n",
       "        AREA    AREA NAME  Rpt Dist No  Part 1-2  Crm Cd  \\\n",
       "787568     9     Van Nuys          961         1     331   \n",
       "792775    18    Southeast         1844         1     230   \n",
       "70332      2      Rampart          236         2     745   \n",
       "259118     6    Hollywood          645         1     230   \n",
       "724039    10  West Valley         1008         1     330   \n",
       "\n",
       "                                              Crm Cd Desc  \\\n",
       "787568  THEFT FROM MOTOR VEHICLE - GRAND ($950.01 AND ...   \n",
       "792775     ASSAULT WITH DEADLY WEAPON, AGGRAVATED ASSAULT   \n",
       "70332            VANDALISM - MISDEAMEANOR ($399 OR UNDER)   \n",
       "259118     ASSAULT WITH DEADLY WEAPON, AGGRAVATED ASSAULT   \n",
       "724039                              BURGLARY FROM VEHICLE   \n",
       "\n",
       "                                             Mocodes  Vict Age Vict Sex  \\\n",
       "787568                                     0344 1822        28        F   \n",
       "792775  0906 1402 1419 1822 1407 1300 1100 0302 0450        34        M   \n",
       "70332   0913 0329 1609 2000 0319 2007 1222 1814 1300        27        M   \n",
       "259118                           1822 0334 1501 0400        21        F   \n",
       "724039                      0344 1609 1822 1420 0209         0        M   \n",
       "\n",
       "       Vict Descent  Premis Cd                                   Premis Desc  \\\n",
       "787568            W      101.0                                        STREET   \n",
       "792775            B      210.0                          RESTAURANT/FAST FOOD   \n",
       "70332             B      502.0  MULTI-UNIT DWELLING (APARTMENT, DUPLEX, ETC)   \n",
       "259118            B      102.0                                      SIDEWALK   \n",
       "724039            W      108.0                                   PARKING LOT   \n",
       "\n",
       "        Weapon Used Cd      Weapon Desc Status   Status Desc  Crm Cd 1  \\\n",
       "787568             NaN              NaN     IC   Invest Cont     331.0   \n",
       "792775           106.0  UNKNOWN FIREARM     AA  Adult Arrest     230.0   \n",
       "70332              NaN              NaN     AO   Adult Other     745.0   \n",
       "259118           102.0         HAND GUN     IC   Invest Cont     230.0   \n",
       "724039             NaN              NaN     IC   Invest Cont     330.0   \n",
       "\n",
       "        Crm Cd 2  Crm Cd 3  Crm Cd 4  \\\n",
       "787568       NaN       NaN       NaN   \n",
       "792775       NaN       NaN       NaN   \n",
       "70332        NaN       NaN       NaN   \n",
       "259118       NaN       NaN       NaN   \n",
       "724039       NaN       NaN       NaN   \n",
       "\n",
       "                                        LOCATION Cross Street      LAT  \\\n",
       "787568  15200    VALLEYHEART                  DR          NaN  34.1612   \n",
       "792775  11300    AVALON                       BL          NaN  33.9320   \n",
       "70332     200 N  ALVARADO                     ST          NaN  34.0680   \n",
       "259118   1700 N  LA BREA                      AV          NaN  34.1016   \n",
       "724039   7600    HAYVENHURST                  AV          NaN  34.2085   \n",
       "\n",
       "             LON  \n",
       "787568 -118.4651  \n",
       "792775 -118.2652  \n",
       "70332  -118.2695  \n",
       "259118 -118.3452  \n",
       "724039 -118.4924  "
      ]
     },
     "execution_count": 5,
     "metadata": {},
     "output_type": "execute_result"
    }
   ],
   "source": [
    "df.sample(5)"
   ]
  },
  {
   "cell_type": "code",
   "execution_count": 6,
   "id": "9990876d-2af4-4095-aa5d-7fa45899f866",
   "metadata": {},
   "outputs": [
    {
     "data": {
      "text/plain": [
       "(990293, 28)"
      ]
     },
     "execution_count": 6,
     "metadata": {},
     "output_type": "execute_result"
    }
   ],
   "source": [
    "df.shape"
   ]
  },
  {
   "cell_type": "code",
   "execution_count": 7,
   "id": "c53f9311-0749-4fbd-905a-dc454a157d26",
   "metadata": {},
   "outputs": [
    {
     "name": "stdout",
     "output_type": "stream",
     "text": [
      "<class 'pandas.core.frame.DataFrame'>\n",
      "RangeIndex: 990293 entries, 0 to 990292\n",
      "Data columns (total 28 columns):\n",
      " #   Column          Non-Null Count   Dtype  \n",
      "---  ------          --------------   -----  \n",
      " 0   DR_NO           990293 non-null  int64  \n",
      " 1   Date Rptd       990293 non-null  object \n",
      " 2   DATE OCC        990293 non-null  object \n",
      " 3   TIME OCC        990293 non-null  int64  \n",
      " 4   AREA            990293 non-null  int64  \n",
      " 5   AREA NAME       990293 non-null  object \n",
      " 6   Rpt Dist No     990293 non-null  int64  \n",
      " 7   Part 1-2        990293 non-null  int64  \n",
      " 8   Crm Cd          990293 non-null  int64  \n",
      " 9   Crm Cd Desc     990293 non-null  object \n",
      " 10  Mocodes         842641 non-null  object \n",
      " 11  Vict Age        990293 non-null  int64  \n",
      " 12  Vict Sex        849515 non-null  object \n",
      " 13  Vict Descent    849504 non-null  object \n",
      " 14  Premis Cd       989970 non-null  float64\n",
      " 15  Premis Desc     989399 non-null  object \n",
      " 16  Weapon Used Cd  326547 non-null  float64\n",
      " 17  Weapon Desc     326547 non-null  object \n",
      " 18  Status          990292 non-null  object \n",
      " 19  Status Desc     990293 non-null  object \n",
      " 20  Crm Cd 1        990282 non-null  float64\n",
      " 21  Crm Cd 2        68957 non-null   float64\n",
      " 22  Crm Cd 3        2311 non-null    float64\n",
      " 23  Crm Cd 4        64 non-null      float64\n",
      " 24  LOCATION        990293 non-null  object \n",
      " 25  Cross Street    152641 non-null  object \n",
      " 26  LAT             990293 non-null  float64\n",
      " 27  LON             990293 non-null  float64\n",
      "dtypes: float64(8), int64(7), object(13)\n",
      "memory usage: 211.5+ MB\n"
     ]
    }
   ],
   "source": [
    "df.info()"
   ]
  },
  {
   "cell_type": "markdown",
   "id": "cd82472e-2c6b-4fb0-aeaf-57b0b5a78462",
   "metadata": {},
   "source": [
    "# Data Cleaning"
   ]
  },
  {
   "cell_type": "markdown",
   "id": "a0f0a15a-76a2-4247-9b68-1606afc3bc2c",
   "metadata": {},
   "source": [
    "### Rename Columns"
   ]
  },
  {
   "cell_type": "code",
   "execution_count": 8,
   "id": "cc829f72-e40b-457b-9eea-32f58f849d09",
   "metadata": {},
   "outputs": [
    {
     "data": {
      "text/plain": [
       "Index(['DR_NO', 'Date Rptd', 'DATE OCC', 'TIME OCC', 'AREA', 'AREA NAME',\n",
       "       'Rpt Dist No', 'Part 1-2', 'Crm Cd', 'Crm Cd Desc', 'Mocodes',\n",
       "       'Vict Age', 'Vict Sex', 'Vict Descent', 'Premis Cd', 'Premis Desc',\n",
       "       'Weapon Used Cd', 'Weapon Desc', 'Status', 'Status Desc', 'Crm Cd 1',\n",
       "       'Crm Cd 2', 'Crm Cd 3', 'Crm Cd 4', 'LOCATION', 'Cross Street', 'LAT',\n",
       "       'LON'],\n",
       "      dtype='object')"
      ]
     },
     "execution_count": 8,
     "metadata": {},
     "output_type": "execute_result"
    }
   ],
   "source": [
    "df.columns"
   ]
  },
  {
   "cell_type": "code",
   "execution_count": 9,
   "id": "ad081871-5563-467d-a8e7-9ea95437dfe6",
   "metadata": {},
   "outputs": [],
   "source": [
    "# New column names with lowercase and underscores\n",
    "new_columns = [\n",
    "    'report_number', 'date_reported', 'date_of_occurrence', 'time_of_occurrence', \n",
    "    'area_code', 'area_name', 'report_district_number', 'part_1_or_2', \n",
    "    'crime_code', 'crime_code_description', 'mocodes', 'victim_age', \n",
    "    'victim_sex', 'victim_descent', 'premise_code', 'premise_description', \n",
    "    'weapon_used_code', 'weapon_description', 'crime_status', 'crime_status_description',\n",
    "    'crime_code_1', 'crime_code_2', 'crime_code_3', 'crime_code_4', \n",
    "    'location', 'cross_street', 'latitude', 'longitude'\n",
    "]\n",
    "\n",
    "# Rename columns using the new column names\n",
    "df.columns = new_columns"
   ]
  },
  {
   "cell_type": "markdown",
   "id": "37cba927-544f-4dc9-ac96-6b49fd421a6d",
   "metadata": {},
   "source": [
    "## Missing Values"
   ]
  },
  {
   "cell_type": "code",
   "execution_count": 10,
   "id": "d44ced7e-23f9-4523-8c6c-db73e75e9320",
   "metadata": {},
   "outputs": [
    {
     "data": {
      "text/plain": [
       "report_number                    0\n",
       "date_reported                    0\n",
       "date_of_occurrence               0\n",
       "time_of_occurrence               0\n",
       "area_code                        0\n",
       "area_name                        0\n",
       "report_district_number           0\n",
       "part_1_or_2                      0\n",
       "crime_code                       0\n",
       "crime_code_description           0\n",
       "mocodes                     147652\n",
       "victim_age                       0\n",
       "victim_sex                  140778\n",
       "victim_descent              140789\n",
       "premise_code                   323\n",
       "premise_description            894\n",
       "weapon_used_code            663746\n",
       "weapon_description          663746\n",
       "crime_status                     1\n",
       "crime_status_description         0\n",
       "crime_code_1                    11\n",
       "crime_code_2                921336\n",
       "crime_code_3                987982\n",
       "crime_code_4                990229\n",
       "location                         0\n",
       "cross_street                837652\n",
       "latitude                         0\n",
       "longitude                        0\n",
       "dtype: int64"
      ]
     },
     "execution_count": 10,
     "metadata": {},
     "output_type": "execute_result"
    }
   ],
   "source": [
    "df.isnull().sum()"
   ]
  },
  {
   "cell_type": "code",
   "execution_count": 11,
   "id": "466d434b-554a-4eda-a96b-903b8412a20b",
   "metadata": {},
   "outputs": [
    {
     "data": {
      "text/plain": [
       "report_number                0.00\n",
       "date_reported                0.00\n",
       "date_of_occurrence           0.00\n",
       "time_of_occurrence           0.00\n",
       "area_code                    0.00\n",
       "area_name                    0.00\n",
       "report_district_number       0.00\n",
       "part_1_or_2                  0.00\n",
       "crime_code                   0.00\n",
       "crime_code_description       0.00\n",
       "mocodes                     14.91\n",
       "victim_age                   0.00\n",
       "victim_sex                  14.22\n",
       "victim_descent              14.22\n",
       "premise_code                 0.03\n",
       "premise_description          0.09\n",
       "weapon_used_code            67.03\n",
       "weapon_description          67.03\n",
       "crime_status                 0.00\n",
       "crime_status_description     0.00\n",
       "crime_code_1                 0.00\n",
       "crime_code_2                93.04\n",
       "crime_code_3                99.77\n",
       "crime_code_4                99.99\n",
       "location                     0.00\n",
       "cross_street                84.59\n",
       "latitude                     0.00\n",
       "longitude                    0.00\n",
       "dtype: float64"
      ]
     },
     "execution_count": 11,
     "metadata": {},
     "output_type": "execute_result"
    }
   ],
   "source": [
    "round(df.isna().mean() * 100,2)"
   ]
  },
  {
   "cell_type": "markdown",
   "id": "b7ec17b6-d7c5-41bf-8be7-a06badcca5d6",
   "metadata": {},
   "source": [
    "#### assuming we want to clean null values by droping all rows containing null values"
   ]
  },
  {
   "cell_type": "code",
   "execution_count": 12,
   "id": "acd1922e-daa5-49e2-82f8-2680935d131a",
   "metadata": {},
   "outputs": [
    {
     "name": "stdout",
     "output_type": "stream",
     "text": [
      "Original shape: (990293, 28)\n",
      "Cleaned shape: (10, 28)\n"
     ]
    }
   ],
   "source": [
    "# Remove rows with any missing values\n",
    "df_cleaned = df.dropna()\n",
    "\n",
    "# Remove rows with missing values in specific columns (e.g., 'date_reported')\n",
    "# df_cleaned = df.dropna(subset=['date_reported', 'victim_age'])\n",
    "\n",
    "# Check the shape of the DataFrame before and after cleaning\n",
    "print(f\"Original shape: {df.shape}\")\n",
    "print(f\"Cleaned shape: {df_cleaned.shape}\")"
   ]
  },
  {
   "cell_type": "markdown",
   "id": "9a99908d-9b1e-4642-808a-73d129fc3aaf",
   "metadata": {},
   "source": [
    "looking at the dataset, we can just go ahead and and work with the data as the null values for some are justifiable<br>\n",
    "drop the row with the blank crime status and crime code, premise code and premise description<br>\n",
    "we can fill the sex, descent with \"unknown\"<br>"
   ]
  },
  {
   "cell_type": "markdown",
   "id": "80411be2-5f5a-4c1b-9dad-a44ae1c0955e",
   "metadata": {},
   "source": [
    "#### dropping rows with null values fr some columns"
   ]
  },
  {
   "cell_type": "code",
   "execution_count": 13,
   "id": "ee916dd2-6123-4141-afa8-99b8c8fba771",
   "metadata": {},
   "outputs": [],
   "source": [
    "df.dropna(subset=['crime_status'], inplace=True)\n",
    "df.dropna(subset=['premise_code'], inplace=True)\n",
    "df.dropna(subset=['premise_description'], inplace=True)"
   ]
  },
  {
   "cell_type": "markdown",
   "id": "4d0d644b-8da7-495d-919c-64ca0e0edd00",
   "metadata": {},
   "source": [
    "fill the sex, descent with \"unknown\""
   ]
  },
  {
   "cell_type": "markdown",
   "id": "04ddb753-5789-4d26-bd5d-e318fb2052c9",
   "metadata": {},
   "source": [
    "#### filling up null values with actual values like \"Unknown\" for columns where "
   ]
  },
  {
   "cell_type": "code",
   "execution_count": 14,
   "id": "1f7e2edb-4c95-4c25-814f-7d9e8527d484",
   "metadata": {},
   "outputs": [],
   "source": [
    "#fill null with \"Unknown\"\n",
    "df['victim_sex'] = df['victim_sex'].fillna('Unknown')\n",
    "df['victim_descent'] = df['victim_descent'].fillna('Unknown')"
   ]
  },
  {
   "cell_type": "code",
   "execution_count": 15,
   "id": "123002ed-758b-41e5-bb7f-4011cf7afbfd",
   "metadata": {},
   "outputs": [],
   "source": [
    "#fill null with with No weapon\n",
    "df['weapon_used_code'] = df['weapon_used_code'].fillna(0)\n",
    "df['weapon_description'] = df['weapon_description'].fillna('No Weapon')"
   ]
  },
  {
   "cell_type": "markdown",
   "id": "75dfe4ce-0fc6-425f-95c9-a750ae977779",
   "metadata": {},
   "source": [
    "#### drop unnecessary columns"
   ]
  },
  {
   "cell_type": "markdown",
   "id": "5912cf5e-dba5-495d-8350-ff5a176f9c97",
   "metadata": {},
   "source": [
    "the mocodes can be an important column, however it contains, for sum rows, about 10 codes which will make analysis fruitless in some sense<br>\n",
    "to convert these codes into the description is necessary<br>\n",
    "for this analysis though, we dont need the column<br>\n",
    "<br>\n",
    "we wont be doing any advance <strong>geospatial analysis</strong> too so we dont need the <strong>cross_street column</strong><br>\n",
    "the extra crime_code columns are also only necessary for multicrime analysis, since the null values are more than 90% for three and we have an actual crime code column, we can drop the columns"
   ]
  },
  {
   "cell_type": "code",
   "execution_count": 16,
   "id": "b2f591e0-e36e-428e-9489-e3a5dfc0dbb8",
   "metadata": {},
   "outputs": [],
   "source": [
    "df.drop(\"mocodes\", axis=1, inplace=True)\n",
    "df.drop(\"cross_street\", axis=1, inplace=True)\n",
    "df.drop(\"crime_code_1\", axis=1, inplace=True)\n",
    "df.drop(\"crime_code_2\", axis=1, inplace=True)\n",
    "df.drop(\"crime_code_3\", axis=1, inplace=True)\n",
    "df.drop(\"crime_code_4\", axis=1, inplace=True)"
   ]
  },
  {
   "cell_type": "markdown",
   "id": "2a56e97f-3de7-44d0-aa44-65c0d94ceacf",
   "metadata": {},
   "source": [
    "uniques for crime_status_description"
   ]
  },
  {
   "cell_type": "markdown",
   "id": "3ea99475-fed8-4216-bdec-18d5c76c4203",
   "metadata": {},
   "source": [
    "#### clean and corrrect time and date columns"
   ]
  },
  {
   "cell_type": "markdown",
   "id": "1bce5428-7a1b-47f8-b0d8-89f777328d78",
   "metadata": {},
   "source": [
    "convert date columns to date dtype"
   ]
  },
  {
   "cell_type": "code",
   "execution_count": 17,
   "id": "cf1b2b74-0e9b-42e8-838e-65de26bd4aa7",
   "metadata": {},
   "outputs": [],
   "source": [
    "#change data_reported column to date dtype\n",
    "df['date_reported'] = pd.to_datetime(df['date_reported'], format='%m/%d/%Y %I:%M:%S %p', errors='coerce').dt.date\n",
    "\n",
    "#change date_of_occurrence column to date dtype\n",
    "df['date_of_occurrence'] = pd.to_datetime(df['date_of_occurrence'], format='%m/%d/%Y %I:%M:%S %p', errors='coerce').dt.date"
   ]
  },
  {
   "cell_type": "markdown",
   "id": "08d5a19c-a83c-4779-801d-74b305a9f106",
   "metadata": {},
   "source": [
    "for the time column there are 1, 2, 3 and 4 digit values making the conversion a bit odd<br>\n",
    "we have to treat it differently"
   ]
  },
  {
   "cell_type": "code",
   "execution_count": 18,
   "id": "6e43848d-070f-4417-aa12-211412a98472",
   "metadata": {},
   "outputs": [],
   "source": [
    "# Convert each time entry into a standardized time format 'HH:MM'\n",
    "def standardize_time(x):\n",
    "    x = str(x)  # Convert to string for easier manipulation\n",
    "    if len(x) == 4:  # 4-digit format: HHMM\n",
    "        return f\"{x[:2]}:{x[2:]}\"\n",
    "    elif len(x) == 3:  # 3-digit format: HMM\n",
    "        return f\"{x[0]}:{x[1:]}\"\n",
    "    elif len(x) == 1 or len(x) == 2:  # 1 or 2 digit format: H\n",
    "        return f\"{x}:00\"\n",
    "    else:\n",
    "        return None  # In case of invalid time format\n",
    "\n",
    "# Apply the function to the column\n",
    "df['time_of_occurrence'] = df['time_of_occurrence'].apply(standardize_time)\n",
    "\n",
    "# Now, convert to datetime and extract time\n",
    "df['time_of_occurrence'] = pd.to_datetime(df['time_of_occurrence'], format='%H:%M', errors='coerce').dt.time\n",
    "\n",
    "#correct NaT values by making it 00:00:00\n",
    "df['time_of_occurrence'] = df['time_of_occurrence'].fillna(pd.Timestamp(\"00:00:00\").time())"
   ]
  },
  {
   "cell_type": "markdown",
   "id": "1e665599-82ac-44e5-8e86-5d6b0b4c0b57",
   "metadata": {},
   "source": [
    "#### Check Unique values to find inconsistencies"
   ]
  },
  {
   "cell_type": "markdown",
   "id": "0c0d33cf-1080-48f0-835f-34b260fcd2ba",
   "metadata": {},
   "source": [
    "CRIME STATUS DESCRIPTION"
   ]
  },
  {
   "cell_type": "code",
   "execution_count": 19,
   "id": "8bf71cd8-ec8c-4a85-9b07-d772c1a52ccb",
   "metadata": {},
   "outputs": [
    {
     "data": {
      "text/plain": [
       "array(['Adult Arrest', 'Invest Cont', 'Adult Other', 'Juv Arrest',\n",
       "       'Juv Other', 'UNK'], dtype=object)"
      ]
     },
     "execution_count": 19,
     "metadata": {},
     "output_type": "execute_result"
    }
   ],
   "source": [
    "df['crime_status_description'].unique()"
   ]
  },
  {
   "cell_type": "markdown",
   "id": "7d038be7-ac55-46e3-86c1-eccae6405054",
   "metadata": {},
   "source": [
    "let's use data that is more readable and understandable<br>\n",
    "dictionary below was obtained from the web"
   ]
  },
  {
   "cell_type": "code",
   "execution_count": 20,
   "id": "f854770f-7a49-47d5-ae11-2b32ed8e6161",
   "metadata": {},
   "outputs": [],
   "source": [
    "# Mapping of crime status codes to their meanings\n",
    "crime_status_mapping = {\n",
    "    'AA': 'Arrest Made',\n",
    "    'IC': 'Investigation Continuing',\n",
    "    'AO': 'Arrest Outstanding',\n",
    "    'JA': 'Juvenile Arrest',\n",
    "    'JO': 'Juvenile Outstanding',\n",
    "    'CC': 'Case Closed'\n",
    "}\n",
    "\n",
    "# Apply the mapping to the 'crime_status' column to create a new 'crime_status_description' column\n",
    "df['crime_status_description'] = df['crime_status'].map(crime_status_mapping)"
   ]
  },
  {
   "cell_type": "markdown",
   "id": "73969162-689e-4a65-8781-c6f70602b3c7",
   "metadata": {},
   "source": [
    "let's check the unique vales for the columns so we can make some corrections if necessary"
   ]
  },
  {
   "cell_type": "markdown",
   "id": "c6533834-8844-456c-a4c4-cd9cb6efd87f",
   "metadata": {},
   "source": [
    "VICTIM AGE COLUMN"
   ]
  },
  {
   "cell_type": "code",
   "execution_count": 21,
   "id": "d760bd30-9e5a-4a53-ae53-f91e4636b817",
   "metadata": {},
   "outputs": [
    {
     "data": {
      "text/plain": [
       "array([  0,  47,  19,  28,  41,  25,  27,  24,  26,   8,   7,  56,  22,\n",
       "        23,  31,  30,  57,  12,  46,  51,  37,  20,  29,  33,  34,  15,\n",
       "        65,  59,   9,  35,  50,  64,  79,  40,  44,  32,  16,  21,   6,\n",
       "        72,  10,  60,  36,  18,  63,  17,   5,  39,  62,  42,  58,  45,\n",
       "        54,  14,  71,  69,  49,  38,  13,  61,  -2,  43,  78,  67,  53,\n",
       "        11,  48,  73,  52,  68,  81,  80,   3,  55,  89,  70,  77,  83,\n",
       "        91,  82,  75,  76,  74,  -1,   2,  66,  84,  -3,   4,  87,  86,\n",
       "        85,  90,  99,  96,  88,  92,  94,  93,  95,  97,  98, 120,  -4])"
      ]
     },
     "execution_count": 21,
     "metadata": {},
     "output_type": "execute_result"
    }
   ],
   "source": [
    "df.victim_age.unique()"
   ]
  },
  {
   "cell_type": "markdown",
   "id": "028ec578-ad71-488a-994f-560bfea09d3d",
   "metadata": {},
   "source": [
    "negative and 0 ages should be changed to unknown"
   ]
  },
  {
   "cell_type": "code",
   "execution_count": 22,
   "id": "303865df-41c1-4892-bde3-305de8b2dc4f",
   "metadata": {},
   "outputs": [],
   "source": [
    "df[\"victim_age\"] = df[\"victim_age\"].apply(lambda x : \"Unknown\" if x<= 0 else x)"
   ]
  },
  {
   "cell_type": "markdown",
   "id": "dd252a8c-71e9-4146-8464-44138917b756",
   "metadata": {},
   "source": [
    "VICTIM DESCENT"
   ]
  },
  {
   "cell_type": "code",
   "execution_count": 23,
   "id": "09bb7ab9-24c7-4689-bb7d-0517ee2ea825",
   "metadata": {},
   "outputs": [
    {
     "data": {
      "text/plain": [
       "array(['O', 'X', 'H', 'B', 'W', 'Unknown', 'A', 'K', 'C', 'J', 'F', 'I',\n",
       "       'V', 'S', 'P', 'Z', 'G', 'U', 'D', 'L', '-'], dtype=object)"
      ]
     },
     "execution_count": 23,
     "metadata": {},
     "output_type": "execute_result"
    }
   ],
   "source": [
    "df.victim_descent.unique()"
   ]
  },
  {
   "cell_type": "code",
   "execution_count": 24,
   "id": "8fefeab8-cc56-4e16-b778-d9e3fd14454c",
   "metadata": {},
   "outputs": [],
   "source": [
    "descent_mapping = {\n",
    "    'O': 'Other',\n",
    "    'X': 'Unknown',  #  leave as Unknown\n",
    "    'H': 'Hispanic',\n",
    "    'B': 'Black',\n",
    "    'W': 'White',\n",
    "    'A': 'Asian',\n",
    "    'K': 'Native American',\n",
    "    'C': 'White',  # Can map to 'White' if you want to be more general\n",
    "    'J': 'Jewish',\n",
    "    'F': 'Filipino',\n",
    "    'I': 'Indian',\n",
    "    'V': 'Vietnamese',\n",
    "    'S': 'Spanish',\n",
    "    'P': 'Polish',\n",
    "    'Z': 'Zulu',\n",
    "    'G': 'Greek',\n",
    "    'U': 'Ukrainian',\n",
    "    'D': 'Dutch',\n",
    "    'L': 'Latino',\n",
    "    '-': 'Unknown',  # Treat '-' as Unknown or NaN\n",
    "}\n",
    "\n",
    "df[\"victim_descent\"]= df[\"victim_descent\"].apply(lambda x: descent_mapping.get(x,\"Unknown\"))"
   ]
  },
  {
   "cell_type": "markdown",
   "id": "3efef473-966d-4dc7-9efe-3a74d0d5c27a",
   "metadata": {},
   "source": [
    "VICTIM DESCENT"
   ]
  },
  {
   "cell_type": "code",
   "execution_count": 25,
   "id": "5c8c2a24-1565-4787-8695-de36de56d644",
   "metadata": {},
   "outputs": [
    {
     "data": {
      "text/plain": [
       "array(['M', 'X', 'F', 'Unknown', 'H', '-'], dtype=object)"
      ]
     },
     "execution_count": 25,
     "metadata": {},
     "output_type": "execute_result"
    }
   ],
   "source": [
    "df.victim_sex.unique()"
   ]
  },
  {
   "cell_type": "code",
   "execution_count": 26,
   "id": "93ea0315-b2ef-4de6-851e-a9dd7e56d095",
   "metadata": {},
   "outputs": [],
   "source": [
    "df['victim_sex'] = df['victim_sex'].replace({'M': 'Male', 'F': 'Female', 'X': 'Unknown', '-': 'Unknown', 'Unknown': 'Unknown', 'H': 'Unknown'})"
   ]
  },
  {
   "cell_type": "code",
   "execution_count": 27,
   "id": "c7c8587a-0811-4265-b4a9-c9710851fabb",
   "metadata": {},
   "outputs": [],
   "source": [
    "# Mapping for crime codes to descriptions (based on common crime categories)\n",
    "# Mapping of crime codes to descriptions\n",
    "# crime_code_mapping = {\n",
    "    # 510: 'VEHICLE - STOLEN', 330: 'BURGLARY FROM VEHICLE', 480: 'BIKE - STOLEN', 343: 'SHOPLIFTING-GRAND THEFT ($950.01 & OVER)',\n",
    "    # 354: 'THEFT OF IDENTITY', 624: 'BATTERY - SIMPLE ASSAULT', 821: 'SODOMY/SEXUAL CONTACT B/W PENIS OF ONE PERS TO...',\n",
    "    # 812: 'CRM AGNST CHLD (13 OR UNDER)', 230: 'ASSAULT WITH DEADLY WEAPON, AGGRAVATED ASSAULT', 956: 'LETTERS, LEWD - TELEPHONE CALLS, LEWD',\n",
    "    # 341: 'THEFT-GRAND ($950.01 & OVER)', 930: 'CRIMINAL THREATS - NO WEAPON DISPLAYED', 668: 'EMBEZZLEMENT, GRAND THEFT ($950.01 & OVER)',\n",
    "    # 420: 'THEFT FROM MOTOR VEHICLE - PETTY ($950 & UNDER)', 813: 'CHILD ANNOYING (17YRS & UNDER)', 440: 'THEFT PLAIN - PETTY ($950 & UNDER)',\n",
    "    # 762: 'LEWD CONDUCT', 441: 'THEFT PLAIN - ATTEMPT', 310: 'BURGLARY', 331: 'THEFT FROM MOTOR VEHICLE - GRAND ($950.01 AND ...',\n",
    "    # 860: 'BATTERY WITH SEXUAL CONTACT', 626: 'INTIMATE PARTNER - SIMPLE ASSAULT', 210: 'ROBBERY', 662: 'BUNCO, GRAND THEFT',\n",
    "    # 236: 'INTIMATE PARTNER - AGGRAVATED ASSAULT', 820: 'ORAL COPULATION', 661: 'UNAUTHORIZED COMPUTER ACCESS', 810: 'SEX, UNLAWFUL',\n",
    "    # 901: 'VIOLATION OF RESTRAINING ORDER', 442: 'SHOPLIFTING - PETTY THEFT ($950 & UNDER)', 740: 'VANDALISM - FELONY',\n",
    "    # 946: 'OTHER MISCELLANEOUS CRIME', 648: 'ARSON', 761: 'BRANDISH WEAPON', 649: 'DOCUMENT FORGERY / STOLEN FELONY',\n",
    "    # 845: 'SEX OFFENDER REGISTRANT OUT OF COMPLIANCE', 121: 'RAPE, FORCIBLE', 745: 'VANDALISM - MISDEAMEANOR ($399 OR UNDER)',\n",
    "    # 627: 'CHILD ABUSE (PHYSICAL) - SIMPLE ASSAULT', 653: 'CREDIT CARDS, FRAUD USE ($950.01 & OVER)', 928: 'THREATENING PHONE CALLS/LETTERS',\n",
    "    # 815: 'SEXUAL PENETRATION W/FOREIGN OBJECT', 940: 'EXTORTION', 625: 'OTHER ASSAULT', 352: 'PICKPOCKET', 886: 'DISTURBING THE PEACE',\n",
    "    # 666: 'BUNCO, ATTEMPT', 921: 'HUMAN TRAFFICKING - INVOLUNTARY SERVITUDE', 805: 'PIMPING', 932: 'PEEPING TOM',\n",
    "    # 900: 'VIOLATION OF COURT ORDER', 903: 'CONTEMPT OF COURT', 439: 'FALSE POLICE REPORT', 954: 'CONTRIBUTING',\n",
    "    # 434: 'FALSE IMPRISONMENT', 235: 'CHILD ABUSE (PHYSICAL) - AGGRAVATED ASSAULT', 220: 'ATTEMPTED ROBBERY',\n",
    "    # 654: 'CREDIT CARDS, FRAUD USE ($950 & UNDER)', 922: 'CHILD STEALING', 760: 'LEWD/LASCIVIOUS ACTS WITH CHILD',\n",
    "    # 670: 'EMBEZZLEMENT, PETTY THEFT ($950 & UNDER)', 850: 'INDECENT EXPOSURE', 237: 'CHILD NEGLECT (SEE 300 W.I.C.)',\n",
    "    # 763: 'STALKING', 345: 'DISHONEST EMPLOYEE - GRAND THEFT', 888: 'TRESPASSING', 320: 'BURGLARY, ATTEMPTED', 122: 'RAPE, ATTEMPTED',\n",
    "    # 753: 'DISCHARGE FIREARMS/SHOTS FIRED', 822: 'HUMAN TRAFFICKING - COMMERCIAL SEX ACTS', 520: 'VEHICLE - ATTEMPT STOLEN',\n",
    "    # 806: 'PANDERING', 906: 'FIREARMS RESTRAINING ORDER (FIREARMS RO)', 437: 'RESISTING ARREST', 410: 'BURGLARY FROM VEHICLE, ATTEMPTED',\n",
    "    # 350: 'THEFT, PERSON', 623: 'BATTERY POLICE (SIMPLE)', 522: 'VEHICLE, STOLEN - OTHER', 450: 'THEFT FROM PERSON - ATTEMPT',\n",
    "    # 890: 'FAILURE TO YIELD', 755: 'BOMB SCARE', 231: 'ASSAULT WITH DEADLY WEAPON ON POLICE OFFICER', 664: 'BUNCO, PETTY THEFT',\n",
    "    # 251: 'SHOTS FIRED AT INHABITED DWELLING', 951: 'DEFRAUDING INNKEEPER/THEFT OF SERVICES', 920: 'KIDNAPPING - GRAND ATTEMPT',\n",
    "    # 250: 'SHOTS FIRED AT MOVING VEHICLE, TRAIN OR AIRCRAFT', 470: 'TILL TAP - GRAND THEFT ($950.01 & OVER)', 902: 'VIOLATION OF TEMPORARY RESTRAINING ORDER',\n",
    "    # 647: 'THROWING OBJECT AT MOVING VEHICLE', 651: 'DOCUMENT WORTHLESS ($200.01 & OVER)', 910: 'KIDNAPPING', 110: 'CRIMINAL HOMICIDE',\n",
    "    # 351: 'PURSE SNATCHING', 421: 'THEFT FROM MOTOR VEHICLE - ATTEMPT', 444: 'DISHONEST EMPLOYEE - PETTY THEFT', 814: 'CHILD PORNOGRAPHY',\n",
    "    # 756: 'WEAPONS POSSESSION/BOMBING', 433: 'DRIVING WITHOUT OWNER CONSENT (DWOC)', 931: 'REPLICA FIREARMS(SALE,DISPLAY,MANUFACTURE OR D...',\n",
    "    # 435: 'LYNCHING', 438: 'RECKLESS DRIVING', 443: 'SHOPLIFTING - ATTEMPT', 660: 'COUNTERFEIT', 950: 'DEFRAUDING INNKEEPER/THEFT OF SERVICES',\n",
    "    # 622: 'BATTERY ON A FIREFIGHTER', 943: 'CRUELTY TO ANIMALS', 487: 'BOAT - STOLEN', 949: 'ILLEGAL DUMPING', 944: 'CONSPIRACY',\n",
    "    # 942: 'BRIBERY', 347: 'GRAND THEFT / INSURANCE FRAUD', 353: 'DRUNK ROLL', 870: 'CHILD ABANDONMENT', 473: 'THEFT, COIN MACHINE - GRAND',\n",
    "    # 880: 'DISRUPT SCHOOL', 452: 'PICKPOCKET, ATTEMPT', 924: 'TELEPHONE PROPERTY - DAMAGE', 840: 'BEASTIALITY', 948: 'BIGAMY',\n",
    "    # 884: 'FAILURE TO DISPERSE', 904: 'FIREARMS EMERGENCY PROTECTIVE ORDER', 830: 'INCEST', 432: 'BLOCKING DOOR INDUCTION CENTER', 882: 'INCITING A RIOT',\n",
    "    # 445: 'DISHONEST EMPLOYEE ATTEMPTED THEFT', 926: 'TRAIN WRECKING', 453: 'DRUNK ROLL - ATTEMPT'\n",
    "# }\n",
    "\n",
    "# df[\"crime_description\"] = df[\"crime_code_1\"].apply(lambda x: crime_code_mapping.get(x,\"Unknown\"))\n"
   ]
  },
  {
   "cell_type": "markdown",
   "id": "aa9fe58d-dda1-426f-81a3-df0a6e582f5e",
   "metadata": {},
   "source": [
    "CRIME CODE DESCRIPTION"
   ]
  },
  {
   "cell_type": "code",
   "execution_count": 28,
   "id": "5dae2cf8-6ab1-4065-8f9d-229f9f5d37f5",
   "metadata": {
    "scrolled": true
   },
   "outputs": [
    {
     "data": {
      "text/plain": [
       "array(['VEHICLE - STOLEN', 'BURGLARY FROM VEHICLE', 'BIKE - STOLEN',\n",
       "       'SHOPLIFTING-GRAND THEFT ($950.01 & OVER)', 'THEFT OF IDENTITY',\n",
       "       'BATTERY - SIMPLE ASSAULT',\n",
       "       'SODOMY/SEXUAL CONTACT B/W PENIS OF ONE PERS TO ANUS OTH',\n",
       "       'CRM AGNST CHLD (13 OR UNDER) (14-15 & SUSP 10 YRS OLDER)',\n",
       "       'ASSAULT WITH DEADLY WEAPON, AGGRAVATED ASSAULT',\n",
       "       'LETTERS, LEWD  -  TELEPHONE CALLS, LEWD',\n",
       "       'THEFT-GRAND ($950.01 & OVER)EXCPT,GUNS,FOWL,LIVESTK,PROD',\n",
       "       'CRIMINAL THREATS - NO WEAPON DISPLAYED',\n",
       "       'EMBEZZLEMENT, GRAND THEFT ($950.01 & OVER)',\n",
       "       'THEFT FROM MOTOR VEHICLE - PETTY ($950 & UNDER)',\n",
       "       'CHILD ANNOYING (17YRS & UNDER)',\n",
       "       'THEFT PLAIN - PETTY ($950 & UNDER)', 'LEWD CONDUCT',\n",
       "       'THEFT PLAIN - ATTEMPT', 'BURGLARY',\n",
       "       'THEFT FROM MOTOR VEHICLE - GRAND ($950.01 AND OVER)',\n",
       "       'BATTERY WITH SEXUAL CONTACT', 'INTIMATE PARTNER - SIMPLE ASSAULT',\n",
       "       'ROBBERY', 'BUNCO, GRAND THEFT',\n",
       "       'INTIMATE PARTNER - AGGRAVATED ASSAULT', 'ORAL COPULATION',\n",
       "       'UNAUTHORIZED COMPUTER ACCESS',\n",
       "       'SEX,UNLAWFUL(INC MUTUAL CONSENT, PENETRATION W/ FRGN OBJ',\n",
       "       'VIOLATION OF RESTRAINING ORDER',\n",
       "       'SHOPLIFTING - PETTY THEFT ($950 & UNDER)',\n",
       "       'VANDALISM - FELONY ($400 & OVER, ALL CHURCH VANDALISMS)',\n",
       "       'OTHER MISCELLANEOUS CRIME', 'ARSON', 'BRANDISH WEAPON',\n",
       "       'DOCUMENT FORGERY / STOLEN FELONY',\n",
       "       'SEX OFFENDER REGISTRANT OUT OF COMPLIANCE', 'RAPE, FORCIBLE',\n",
       "       'VANDALISM - MISDEAMEANOR ($399 OR UNDER)',\n",
       "       'CHILD ABUSE (PHYSICAL) - SIMPLE ASSAULT',\n",
       "       'CREDIT CARDS, FRAUD USE ($950.01 & OVER)',\n",
       "       'THREATENING PHONE CALLS/LETTERS',\n",
       "       'SEXUAL PENETRATION W/FOREIGN OBJECT', 'EXTORTION',\n",
       "       'OTHER ASSAULT', 'PICKPOCKET', 'DISTURBING THE PEACE',\n",
       "       'BUNCO, ATTEMPT', 'HUMAN TRAFFICKING - INVOLUNTARY SERVITUDE',\n",
       "       'PIMPING', 'PEEPING TOM', 'VIOLATION OF COURT ORDER',\n",
       "       'CONTEMPT OF COURT', 'FALSE POLICE REPORT', 'CONTRIBUTING',\n",
       "       'FALSE IMPRISONMENT',\n",
       "       'CHILD ABUSE (PHYSICAL) - AGGRAVATED ASSAULT', 'ATTEMPTED ROBBERY',\n",
       "       'CREDIT CARDS, FRAUD USE ($950 & UNDER', 'CHILD STEALING',\n",
       "       'LEWD/LASCIVIOUS ACTS WITH CHILD',\n",
       "       'EMBEZZLEMENT, PETTY THEFT ($950 & UNDER)', 'INDECENT EXPOSURE',\n",
       "       'CHILD NEGLECT (SEE 300 W.I.C.)', 'STALKING',\n",
       "       'DISHONEST EMPLOYEE - GRAND THEFT', 'TRESPASSING',\n",
       "       'BURGLARY, ATTEMPTED', 'RAPE, ATTEMPTED',\n",
       "       'DISCHARGE FIREARMS/SHOTS FIRED',\n",
       "       'HUMAN TRAFFICKING - COMMERCIAL SEX ACTS',\n",
       "       'VEHICLE - ATTEMPT STOLEN', 'PANDERING',\n",
       "       'FIREARMS RESTRAINING ORDER (FIREARMS RO)', 'RESISTING ARREST',\n",
       "       'BURGLARY FROM VEHICLE, ATTEMPTED', 'THEFT, PERSON',\n",
       "       'BATTERY POLICE (SIMPLE)',\n",
       "       'VEHICLE, STOLEN - OTHER (MOTORIZED SCOOTERS, BIKES, ETC)',\n",
       "       'THEFT FROM PERSON - ATTEMPT', 'FAILURE TO YIELD', 'BOMB SCARE',\n",
       "       'ASSAULT WITH DEADLY WEAPON ON POLICE OFFICER',\n",
       "       'BUNCO, PETTY THEFT', 'SHOTS FIRED AT INHABITED DWELLING',\n",
       "       'DEFRAUDING INNKEEPER/THEFT OF SERVICES, $950 & UNDER',\n",
       "       'KIDNAPPING - GRAND ATTEMPT',\n",
       "       'SHOTS FIRED AT MOVING VEHICLE, TRAIN OR AIRCRAFT',\n",
       "       'TILL TAP - GRAND THEFT ($950.01 & OVER)',\n",
       "       'VIOLATION OF TEMPORARY RESTRAINING ORDER',\n",
       "       'THROWING OBJECT AT MOVING VEHICLE',\n",
       "       'DOCUMENT WORTHLESS ($200.01 & OVER)', 'KIDNAPPING',\n",
       "       'CRIMINAL HOMICIDE', 'PURSE SNATCHING',\n",
       "       'THEFT FROM MOTOR VEHICLE - ATTEMPT',\n",
       "       'DISHONEST EMPLOYEE - PETTY THEFT', 'CHILD PORNOGRAPHY',\n",
       "       'WEAPONS POSSESSION/BOMBING',\n",
       "       'DRIVING WITHOUT OWNER CONSENT (DWOC)',\n",
       "       'REPLICA FIREARMS(SALE,DISPLAY,MANUFACTURE OR DISTRIBUTE)',\n",
       "       'LYNCHING', 'RECKLESS DRIVING', 'SHOPLIFTING - ATTEMPT',\n",
       "       'COUNTERFEIT',\n",
       "       'DEFRAUDING INNKEEPER/THEFT OF SERVICES, OVER $950.01',\n",
       "       'BATTERY ON A FIREFIGHTER', 'CRUELTY TO ANIMALS', 'BOAT - STOLEN',\n",
       "       'ILLEGAL DUMPING', 'PROWLER', 'DRUGS, TO A MINOR',\n",
       "       'THEFT, COIN MACHINE - PETTY ($950 & UNDER)',\n",
       "       'DOCUMENT WORTHLESS ($200 & UNDER)', 'MANSLAUGHTER, NEGLIGENT',\n",
       "       'PETTY THEFT - AUTO REPAIR', 'THEFT, COIN MACHINE - ATTEMPT',\n",
       "       'TILL TAP - PETTY ($950 & UNDER)', 'PURSE SNATCHING - ATTEMPT',\n",
       "       'LYNCHING - ATTEMPTED', 'BIKE - ATTEMPTED STOLEN', 'CONSPIRACY',\n",
       "       'GRAND THEFT / AUTO REPAIR', 'BRIBERY',\n",
       "       'GRAND THEFT / INSURANCE FRAUD', 'DRUNK ROLL', 'CHILD ABANDONMENT',\n",
       "       'THEFT, COIN MACHINE - GRAND ($950.01 & OVER)', 'DISRUPT SCHOOL',\n",
       "       'PICKPOCKET, ATTEMPT', 'TELEPHONE PROPERTY - DAMAGE',\n",
       "       'BEASTIALITY, CRIME AGAINST NATURE SEXUAL ASSLT WITH ANIM',\n",
       "       'BIGAMY', 'FAILURE TO DISPERSE',\n",
       "       'FIREARMS EMERGENCY PROTECTIVE ORDER (FIREARMS EPO)',\n",
       "       'INCEST (SEXUAL ACTS BETWEEN BLOOD RELATIVES)',\n",
       "       'BLOCKING DOOR INDUCTION CENTER', 'INCITING A RIOT',\n",
       "       'DISHONEST EMPLOYEE ATTEMPTED THEFT', 'TRAIN WRECKING',\n",
       "       'DRUNK ROLL - ATTEMPT'], dtype=object)"
      ]
     },
     "execution_count": 28,
     "metadata": {},
     "output_type": "execute_result"
    }
   ],
   "source": [
    "df['crime_code_description'].unique()"
   ]
  },
  {
   "cell_type": "markdown",
   "id": "299b8859-2606-4cf8-a1c4-ef81f3973188",
   "metadata": {},
   "source": [
    "there way too many crimes and it will be easier to analyse if we are to categorise them"
   ]
  },
  {
   "cell_type": "code",
   "execution_count": 29,
   "id": "87431aa1-f9e2-4eb0-848f-a171299aaa02",
   "metadata": {},
   "outputs": [],
   "source": [
    "# Categorizing crimes based on their descriptions\n",
    "def categorize_crime(description):\n",
    "    # Crime categories based on the description\n",
    "    violent_crimes = ['ASSAULT', 'BATTERY', 'ROBBERY', 'KIDNAPPING', 'HOMICIDE', 'STALKING', 'MANSLAUGHTER', 'LYNCHING', 'THREATS', 'EXTORTION']\n",
    "    property_crimes = ['BURGLARY', 'STOLEN', 'THEFT', 'SHOPLIFTING', 'VANDALISM', 'EMBEZZLEMENT', 'FRAUD', 'COUNTERFEIT', 'DOCUMENT', 'TRESPASSING', 'ARSON', 'TILL TAP', 'PICKPOCKET', 'PURSE SNATCHING']\n",
    "    drug_crimes = ['DRUGS', 'POSSESSION', 'TRAFFICKING', 'MINOR', 'UNAUTHORIZED COMPUTER ACCESS']\n",
    "    sexual_crimes = ['SEXUAL', 'SODOMY', 'LEWD', 'PORNOGRAPHY', 'INDECENT', 'RAPE', 'ORAL COPULATION', 'INTIMATE PARTNER', 'SEX OFFENDER', 'INCEST', 'PEEPING TOM' ]\n",
    "    public_order_crimes = ['DISTURBING THE PEACE', 'RIOT', 'DISRUPT SCHOOL', 'CONSPIRACY', 'FAILURE TO DISPERSE', 'BLOCKING', 'CONTEMPT', 'VIOLATION OF COURT ORDER', 'FIREARMS RESTRAINING ORDER']\n",
    "    traffic_crimes = ['DRIVING', 'RECKLESS DRIVING', 'DRUNK', 'VEHICLE', 'FAILURE TO YIELD', 'SHOTS FIRED', 'DISCHARGE FIREARMS', 'MOVING VEHICLE', 'BOAT']\n",
    "    financial_crimes = ['BRIBERY', 'BUNCO', 'DOCUMENT FORGERY', 'CREDIT CARDS', 'FALSE POLICE REPORT', 'DEFRAUDING', 'INSURANCE FRAUD', 'EMBEZZLEMENT']\n",
    "    crimes_against_children = ['CHILD', 'ANNOYING', 'NEGLECT', 'ABUSE', 'ABANDONMENT', 'STEALING', 'CRIMES AGAINST CHILD']\n",
    "    animal_crimes = ['CRUELTY TO ANIMALS', 'BEASTIALITY']\n",
    "    attempted_crimes = ['ATTEMPT', 'ATTEMPTED']\n",
    "    other_crimes = ['FIREARMS', 'TRAIN WRECKING', 'FAILURE TO YIELD', 'LYNCHING', 'BRANDISH WEAPON', 'HUMAN TRAFFICKING', 'PROWLER', 'DRUNK ROLL']\n",
    "\n",
    "\n",
    "   # Check and assign the category\n",
    "    if any(attempt in description for attempt in attempted_crimes):\n",
    "        return 'Attempted Crime'\n",
    "    elif any(violent in description for violent in violent_crimes):\n",
    "        return 'Violent Crime'\n",
    "    elif any(property in description for property in property_crimes):\n",
    "        return 'Property Crime'\n",
    "    elif any(drug in description for drug in drug_crimes):\n",
    "        return 'Drug Crime'\n",
    "    elif any(sexual in description for sexual in sexual_crimes):\n",
    "        return 'Sexual Crime'\n",
    "    elif any(public in description for public in public_order_crimes):\n",
    "        return 'Public Order Crime'\n",
    "    elif any(traffic in description for traffic in traffic_crimes):\n",
    "        return 'Traffic Crime'\n",
    "    elif any(financial in description for financial in financial_crimes):\n",
    "        return 'Financial Crime'\n",
    "    elif any(child in description for child in crimes_against_children):\n",
    "        return 'Crimes Against Children'\n",
    "    elif any(animal in description for animal in animal_crimes):\n",
    "        return 'Animal Crime'\n",
    "    elif any(other in description for other in other_crimes):\n",
    "        return 'Other Crime'\n",
    "    else:\n",
    "        return 'Other'\n",
    "\n",
    "#Apply the crime code mapping to get descriptions and categorize the crimes\n",
    "df['crime_category'] = df['crime_code_description'].apply(categorize_crime) "
   ]
  },
  {
   "cell_type": "markdown",
   "id": "94eda74b-fa98-47b7-a370-d4fa52d9799e",
   "metadata": {},
   "source": [
    "#### Change/Correct Data Types"
   ]
  },
  {
   "cell_type": "code",
   "execution_count": 30,
   "id": "3ad47e35-04c3-4596-8207-ac2c541009d1",
   "metadata": {},
   "outputs": [],
   "source": [
    "# Change the data types of columns\n",
    "df = df.astype({\n",
    "    'date_reported': 'datetime64[ns]',       # Dates should be datetime\n",
    "    'date_of_occurrence': 'datetime64[ns]',  # Dates should be datetime\n",
    "    'time_of_occurrence': 'object',      # Time is handled as time objects\n",
    "    'report_district_number': 'int',     # Numeric representation of districts\n",
    "    'part_1_or_2': 'category',           # Categorical data\n",
    "    'victim_sex': 'category',            # Limited categories (e.g., Male, Female)\n",
    "    'victim_descent': 'category',        # Limited categories\n",
    "    'premise_code': 'Int64',             # Nullable integer (use Int64 for pandas compatibility)\n",
    "    'crime_status': 'category',          # Limited categories\n",
    "})"
   ]
  },
  {
   "cell_type": "code",
   "execution_count": null,
   "id": "da867551-b02d-4ab4-bd42-ef5c33d1b22f",
   "metadata": {},
   "outputs": [],
   "source": []
  }
 ],
 "metadata": {
  "kernelspec": {
   "display_name": "Python 3 (ipykernel)",
   "language": "python",
   "name": "python3"
  },
  "language_info": {
   "codemirror_mode": {
    "name": "ipython",
    "version": 3
   },
   "file_extension": ".py",
   "mimetype": "text/x-python",
   "name": "python",
   "nbconvert_exporter": "python",
   "pygments_lexer": "ipython3",
   "version": "3.12.4"
  }
 },
 "nbformat": 4,
 "nbformat_minor": 5
}
